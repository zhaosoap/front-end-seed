{
 "cells": [
  {
   "cell_type": "code",
   "execution_count": 64,
   "metadata": {
    "collapsed": false
   },
   "outputs": [
    {
     "name": "stdout",
     "output_type": "stream",
     "text": [
      "Index([u'ʱ��', u'CGI', u'����', u'����ά����', u'��������', u'����E-NODEB',\n",
      "       u'С��������', u'С��Ӣ����', u'lng', u'lat', u'�豸ά��״̬', u'����״̬',\n",
      "       u'��������', u'���ǳ���', u'��������֡����', u'������֡ģʽ', u'С������',\n",
      "       u'����Ƶ��', u'������Ƶ���ŵ���', u'��Ƶ����', u'��������', u'����С��ʶ����',\n",
      "       u'����С����ʶ', u'���������', u'��е�����', u'�������', u'��λ��',\n",
      "       u'���߹Ҹ�', u'PRACH��������', u'�ο��źŹ���', u'LTEС����LTE��������',\n",
      "       u'LTEС����TD��������', u'LTEС����GSM��������', u'����������', u'��ַ',\n",
      "       u'��طֹ�˾'],\n",
      "      dtype='object')\n"
     ]
    }
   ],
   "source": [
    "# -*- coding: utf-8 -*-\n",
    "import pandas as pd\n",
    "import numpy as np\n",
    "\n",
    "if __name__ =='__main__':\n",
    "    df = pd.read_csv('4g_gongcan.csv')\n",
    "    print df.columns\n",
    "    df = df[['CGI',u'lng',u'lat']]\n",
    "#     print df['LAC','CI']]\n",
    "\n",
    "    df['LAC'] = [x.split('-')[2] if type(x) is not float else '0' for x in df['CGI']]\n",
    "    df['CI'] = [x.split('-')[3] if type(x) is not float else '0' for x in df['CGI']]\n",
    "#     for i,x in  enumerate(df['CGI']):\n",
    "#         if type(x) is float:\n",
    "#             print x, i\n",
    "    df = df.drop('CGI',axis=1)\n",
    "#     print df.values[43462]\n",
    "#     print df\n",
    "    df.to_csv('4g_gongcan_tran.csv',index=False)\n",
    "    \n"
   ]
  },
  {
   "cell_type": "code",
   "execution_count": null,
   "metadata": {
    "collapsed": true
   },
   "outputs": [],
   "source": []
  }
 ],
 "metadata": {
  "kernelspec": {
   "display_name": "Python 2",
   "language": "python",
   "name": "python2"
  },
  "language_info": {
   "codemirror_mode": {
    "name": "ipython",
    "version": 2
   },
   "file_extension": ".py",
   "mimetype": "text/x-python",
   "name": "python",
   "nbconvert_exporter": "python",
   "pygments_lexer": "ipython2",
   "version": "2.7.11"
  }
 },
 "nbformat": 4,
 "nbformat_minor": 0
}
