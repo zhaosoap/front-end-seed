{
 "cells": [
  {
   "cell_type": "markdown",
   "metadata": {},
   "source": [
    "# RSSI region around Base Station"
   ]
  },
  {
   "cell_type": "code",
   "execution_count": 23,
   "metadata": {
    "collapsed": true
   },
   "outputs": [],
   "source": [
    "import pandas as pd\n",
    "import numpy as np\n",
    "import os\n",
    "gcpath = \"../../data/2g_gongcan_new.csv\"\n",
    "gongcan = pd.read_csv(gcpath)\n",
    "trainPath = \"../../data/train/forward.csv\"\n",
    "trainDF = pd.read_csv(trainPath)"
   ]
  },
  {
   "cell_type": "code",
   "execution_count": 3,
   "metadata": {
    "collapsed": true
   },
   "outputs": [],
   "source": [
    "gongcan = gongcan[['LAC','CI','longitude','latitude']]"
   ]
  },
  {
   "cell_type": "code",
   "execution_count": 5,
   "metadata": {
    "collapsed": false
   },
   "outputs": [],
   "source": [
    "trainDF = trainDF.merge(gongcan, left_on=['All-LAC', 'All-Cell Id'], right_on=['LAC', 'CI'], how='left')"
   ]
  },
  {
   "cell_type": "code",
   "execution_count": 15,
   "metadata": {
    "collapsed": false
   },
   "outputs": [
    {
     "data": {
      "text/plain": [
       "array([[ 121.4428333 ,   31.193475  ,           nan,           nan,  -64.        ],\n",
       "       [ 121.4428333 ,   31.193475  ,           nan,           nan,  -62.        ],\n",
       "       [ 121.4428333 ,   31.193475  ,  121.445424  ,   31.194791  ,  -64.        ],\n",
       "       ..., \n",
       "       [ 121.448195  ,   31.19626333,  121.446515  ,   31.199551  ,  -68.        ],\n",
       "       [ 121.448195  ,   31.19626167,  121.446515  ,   31.199551  ,  -74.        ],\n",
       "       [ 121.448195  ,   31.19626167,  121.446515  ,   31.199551  ,  -71.        ]])"
      ]
     },
     "execution_count": 15,
     "metadata": {},
     "output_type": "execute_result"
    }
   ],
   "source": [
    "trainDF = trainDF[['All-Longitude','All-Latitude','longitude','latitude','All-RxLev Sub (dBm)']]\n"
   ]
  },
  {
   "cell_type": "code",
   "execution_count": 19,
   "metadata": {
    "collapsed": false
   },
   "outputs": [],
   "source": [
    "trainDF.to_csv(\"out.csv\",header=False,index=False)"
   ]
  },
  {
   "cell_type": "code",
   "execution_count": 90,
   "metadata": {
    "collapsed": false
   },
   "outputs": [],
   "source": [
    "import re\n",
    "import urllib2\n",
    "import json\n",
    "def write_batch(buffer_list, buffer_lon, buffer_lat, f_correct_route):\n",
    "\tbase_url = 'http://api.zdoz.net/transmore.ashx?'\n",
    "\turl = base_url \\\n",
    "\t   + 'lats=' + ';'.join(buffer_lat) + '&' \\\n",
    "\t   + 'lngs=' + ';'.join(buffer_lon) + '&' \\\n",
    "\t   + 'type=1'\n",
    "\treq = urllib2.Request(url)\n",
    "\tresponse = urllib2.urlopen(req)\n",
    "\tres = response.read()\n",
    "\tprint url\n",
    "\t# print res\n",
    "\tres = res[res.find('[')+1:res.find(']')]\n",
    "\tres = res.split('},')\n",
    "\tlonlat = []\n",
    "\tfor i in xrange(len(buffer_list)):\n",
    "\t\tlonlat = []\n",
    "\t\tfor j in xrange(2):\n",
    "\t\t\tk = i*2+j;\n",
    "\t\t\ttry:\n",
    "\t\t\t\tif k == len(res)-1:\n",
    "\t\t\t\t\tlonlat.append(json.loads(res[k]))\n",
    "\t\t\t\telse:\n",
    "\t\t\t\t\tlonlat.append(json.loads(res[k]+'}'))\n",
    "\t\t\texcept:\n",
    "\t\t\t\tprint k,len(res)\n",
    "\t\t\t\tprint i,j\t\t\n",
    "\n",
    "\t\tbuffered_line = buffer_list[i]\t\n",
    "\t\tf_correct_route.write(str(lonlat[0]['Lng'])+','+str(lonlat[0]['Lat'])+','+\\\n",
    "\t\t\tstr(lonlat[1]['Lng'])+','+str(lonlat[1]['Lat'])+','+buffered_line[4]+'\\n')\n",
    "\n",
    "\t\t# f_correct_route.write(buffered_line[0]+','+buffered_line[1]+','+buffered_line[2]+','+buffered_line[3]+','+\\\n",
    "\t\t#    str(lonlat['Lat'])+'N,'+str(lonlat['Lng'])+'E,'+buffered_line[6]+','+buffered_line[7]+','+buffered_line[8]+','+buffered_line[9]+'\\n')\n",
    "\n",
    "def correct_route(filename, f, files):\n",
    "\tadd_prefix = re.compile('\\.csv')\n",
    "\tif f.find('.csv') == 0:\n",
    "\t\treturn\n",
    "\tif add_prefix.sub('_corrected.csv', f) in files or f.find('corrected') > 0:\n",
    "\t    return\n",
    "\tprint f\n",
    "\tf_raw_route = open(filename)\n",
    "\tf_correct_route = open(add_prefix.sub('_corrected.csv', filename), 'w')\n",
    "\n",
    "\tbase_url = 'http://api.zdoz.net/transmore.ashx?'\n",
    "\tdata = {}\n",
    "\n",
    "# \thead_string = f_raw_route.readline()\n",
    "# \tf_correct_route.write(head_string)\n",
    "\n",
    "\tbuffer_list = []\n",
    "\tbuffer_lat = []\n",
    "\tbuffer_lon = []\n",
    "\tfor line in f_raw_route:\n",
    "\t\tline = line.strip().split(',') \n",
    "\t\tline = ['0' if s=='' else s  for s in line]\t\n",
    "\n",
    "\t\tif len(buffer_list) == 20:\n",
    "\t\t\twrite_batch(buffer_list, buffer_lon, buffer_lat, f_correct_route)\n",
    "\t\t\tbuffer_list = []\n",
    "\t\t\tbuffer_lon = []\n",
    "\t\t\tbuffer_lat = []\n",
    "# \t\t\tbreak\n",
    "\n",
    "\t\tbuffer_list.append(line)\t\n",
    "\t\tbuffer_lon.append(line[0].strip())\n",
    "\t\tbuffer_lat.append(line[1].strip())\n",
    "\t\tbuffer_lon.append(line[2].strip())\n",
    "\t\tbuffer_lat.append(line[3].strip())\n",
    "\n",
    "    \n",
    "\n",
    "\twrite_batch(buffer_list, buffer_lon, buffer_lat, f_correct_route)\n",
    "\n",
    "\n",
    "\tf_raw_route.close()\n",
    "\tf_correct_route.close()\n",
    "\tprint filename\n",
    "\t# os._exit(0)\n",
    "files = os.listdir('.')\n"
   ]
  },
  {
   "cell_type": "code",
   "execution_count": 93,
   "metadata": {
    "collapsed": false
   },
   "outputs": [],
   "source": [
    "correct_route('out.csv','out.csv',files)"
   ]
  },
  {
   "cell_type": "code",
   "execution_count": null,
   "metadata": {
    "collapsed": true
   },
   "outputs": [],
   "source": []
  }
 ],
 "metadata": {
  "kernelspec": {
   "display_name": "Python 2",
   "language": "python",
   "name": "python2"
  },
  "language_info": {
   "codemirror_mode": {
    "name": "ipython",
    "version": 2
   },
   "file_extension": ".py",
   "mimetype": "text/x-python",
   "name": "python",
   "nbconvert_exporter": "python",
   "pygments_lexer": "ipython2",
   "version": "2.7.11"
  }
 },
 "nbformat": 4,
 "nbformat_minor": 0
}
